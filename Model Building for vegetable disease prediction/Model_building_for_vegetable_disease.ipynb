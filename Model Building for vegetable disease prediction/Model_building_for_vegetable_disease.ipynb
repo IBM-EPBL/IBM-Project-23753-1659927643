{
  "nbformat": 4,
  "nbformat_minor": 0,
  "metadata": {
    "colab": {
      "provenance": []
    },
    "kernelspec": {
      "name": "python3",
      "display_name": "Python 3"
    },
    "language_info": {
      "name": "python"
    }
  },
  "cells": [
    {
      "cell_type": "code",
      "execution_count": 3,
      "metadata": {
        "id": "NPsuvEDWs6lS"
      },
      "outputs": [],
      "source": [
        "from keras.preprocessing.image import ImageDataGenerator\n",
        "train_datagen=ImageDataGenerator(rescale=1./255,shear_range=0.2,zoom_range=0.2,horizontal_flip=True)\n",
        "test_datagen=ImageDataGenerator(rescale=1)"
      ]
    },
    {
      "cell_type": "code",
      "source": [
        "x_train=train_datagen.flow_from_directory(r'/content/drive/MyDrive/Veg-dataset/Veg-dataset/test_set',target_size=(128,128),batch_size=2,class_mode='categorical')\n",
        "x_test=test_datagen.flow_from_directory(r'/content/drive/MyDrive/Veg-dataset/Veg-dataset/train_set',target_size=(128,128),batch_size=2,class_mode='categorical')"
      ],
      "metadata": {
        "colab": {
          "base_uri": "https://localhost:8080/"
        },
        "id": "MmsM1ksGtHw8",
        "outputId": "49fd9d83-e126-47c8-ce95-7ee3a9a5fec2"
      },
      "execution_count": 4,
      "outputs": [
        {
          "output_type": "stream",
          "name": "stdout",
          "text": [
            "Found 0 images belonging to 9 classes.\n",
            "Found 726 images belonging to 9 classes.\n"
          ]
        }
      ]
    },
    {
      "cell_type": "code",
      "source": [
        "from google.colab import drive\n",
        "drive.mount('/content/drive')"
      ],
      "metadata": {
        "colab": {
          "base_uri": "https://localhost:8080/"
        },
        "id": "CyFcdiBcaaA5",
        "outputId": "f3f68af3-3555-470c-bdbd-fda15a9d3580"
      },
      "execution_count": 1,
      "outputs": [
        {
          "output_type": "stream",
          "name": "stdout",
          "text": [
            "Mounted at /content/drive\n"
          ]
        }
      ]
    },
    {
      "cell_type": "markdown",
      "source": [
        "\n",
        "#1. Import the libraries"
      ],
      "metadata": {
        "id": "fBihqN8ljl4_"
      }
    },
    {
      "cell_type": "code",
      "source": [
        "from keras.models import Sequential\n",
        "from keras.layers import Dense\n",
        "from keras.layers import Convolution2D\n",
        "from keras.layers import MaxPooling2D\n",
        "from keras.layers import Flatten"
      ],
      "metadata": {
        "id": "a2V56fhNdS17"
      },
      "execution_count": null,
      "outputs": []
    },
    {
      "cell_type": "markdown",
      "source": [
        "#2. initializing the model"
      ],
      "metadata": {
        "id": "l1S7x01NjuBP"
      }
    },
    {
      "cell_type": "code",
      "source": [
        "model=Sequential()"
      ],
      "metadata": {
        "id": "Gzd1Q2DdexQv"
      },
      "execution_count": null,
      "outputs": []
    },
    {
      "cell_type": "markdown",
      "source": [
        "#3. Add CNN layers"
      ],
      "metadata": {
        "id": "8ry7x1_hj4Aa"
      }
    },
    {
      "cell_type": "code",
      "source": [
        "model.add(Convolution2D(32,(3,3),input_shape=(128,128,3),activation='relu'))"
      ],
      "metadata": {
        "id": "7KdkBF9Le0fA"
      },
      "execution_count": null,
      "outputs": []
    },
    {
      "cell_type": "code",
      "source": [
        "model.add(MaxPooling2D(pool_size=(2,2)))"
      ],
      "metadata": {
        "id": "Wfva--dHe4ES"
      },
      "execution_count": null,
      "outputs": []
    },
    {
      "cell_type": "code",
      "source": [
        "model.add(Flatten())"
      ],
      "metadata": {
        "id": "7iElw4qPfG1Q"
      },
      "execution_count": null,
      "outputs": []
    },
    {
      "cell_type": "markdown",
      "source": [
        "#4. Add dense layer"
      ],
      "metadata": {
        "id": "Dj5VpbmnkCaq"
      }
    },
    {
      "cell_type": "code",
      "source": [
        "model.add(Dense(units=40,kernel_initializer='uniform',activation='relu'))\n"
      ],
      "metadata": {
        "id": "0nQYcwEcfK4L"
      },
      "execution_count": null,
      "outputs": []
    },
    {
      "cell_type": "code",
      "source": [
        "model.add(Dense(units=20,kernel_initializer='random_uniform',activation='relu'))"
      ],
      "metadata": {
        "id": "NlqOK94yfQNt"
      },
      "execution_count": null,
      "outputs": []
    },
    {
      "cell_type": "code",
      "source": [
        "model.add(Dense(units=6,kernel_initializer='random_uniform',activation='softmax'))"
      ],
      "metadata": {
        "id": "YotQU2zAfTJQ"
      },
      "execution_count": null,
      "outputs": []
    },
    {
      "cell_type": "markdown",
      "source": [
        "#5. Train and save the model"
      ],
      "metadata": {
        "id": "sE5o6kfUkQdo"
      }
    },
    {
      "cell_type": "code",
      "source": [
        "model.compile(loss='categorical_crossentropy',optimizer=\"adam\",metrics=[\"accuracy\"])"
      ],
      "metadata": {
        "id": "cqYcIMsSfWs2"
      },
      "execution_count": null,
      "outputs": []
    },
    {
      "cell_type": "code",
      "source": [
        "model.fit(x_train,steps_per_epoch=89,epochs=20,validation_data=x_test,validation_steps=27)"
      ],
      "metadata": {
        "colab": {
          "base_uri": "https://localhost:8080/"
        },
        "id": "ENy3YD14fbHR",
        "outputId": "3fe4e146-463d-434d-ad23-125655003f15"
      },
      "execution_count": null,
      "outputs": [
        {
          "output_type": "stream",
          "name": "stdout",
          "text": [
            "Epoch 1/20\n",
            "89/89 [==============================] - 51s 559ms/step - loss: 1.7341 - accuracy: 0.2978 - val_loss: 68.4831 - val_accuracy: 0.2593\n",
            "Epoch 2/20\n",
            "89/89 [==============================] - 45s 508ms/step - loss: 1.6462 - accuracy: 0.3090 - val_loss: 144.4571 - val_accuracy: 0.2778\n",
            "Epoch 3/20\n",
            "89/89 [==============================] - 42s 474ms/step - loss: 1.4798 - accuracy: 0.4494 - val_loss: 63.1774 - val_accuracy: 0.6111\n",
            "Epoch 4/20\n",
            "89/89 [==============================] - 40s 448ms/step - loss: 1.1879 - accuracy: 0.5393 - val_loss: 159.5375 - val_accuracy: 0.5185\n",
            "Epoch 5/20\n",
            "89/89 [==============================] - 38s 432ms/step - loss: 0.8125 - accuracy: 0.6910 - val_loss: 210.3070 - val_accuracy: 0.6111\n",
            "Epoch 6/20\n",
            "89/89 [==============================] - 35s 394ms/step - loss: 0.7793 - accuracy: 0.7303 - val_loss: 73.3242 - val_accuracy: 0.7037\n",
            "Epoch 7/20\n",
            "89/89 [==============================] - 33s 370ms/step - loss: 0.7050 - accuracy: 0.7247 - val_loss: 82.7554 - val_accuracy: 0.7593\n",
            "Epoch 8/20\n",
            "89/89 [==============================] - 32s 355ms/step - loss: 0.6890 - accuracy: 0.7584 - val_loss: 100.2252 - val_accuracy: 0.6667\n",
            "Epoch 9/20\n",
            "89/89 [==============================] - 28s 314ms/step - loss: 0.8434 - accuracy: 0.6854 - val_loss: 96.8302 - val_accuracy: 0.7778\n",
            "Epoch 10/20\n",
            "89/89 [==============================] - 27s 304ms/step - loss: 0.7859 - accuracy: 0.7247 - val_loss: 69.6133 - val_accuracy: 0.6852\n",
            "Epoch 11/20\n",
            "89/89 [==============================] - 25s 278ms/step - loss: 0.5489 - accuracy: 0.8034 - val_loss: 49.2294 - val_accuracy: 0.7778\n",
            "Epoch 12/20\n",
            "89/89 [==============================] - 25s 287ms/step - loss: 0.5280 - accuracy: 0.7978 - val_loss: 73.0495 - val_accuracy: 0.8704\n",
            "Epoch 13/20\n",
            "89/89 [==============================] - 24s 269ms/step - loss: 0.6045 - accuracy: 0.7753 - val_loss: 10.6866 - val_accuracy: 0.9074\n",
            "Epoch 14/20\n",
            "89/89 [==============================] - 24s 266ms/step - loss: 0.6482 - accuracy: 0.7528 - val_loss: 59.0974 - val_accuracy: 0.7963\n",
            "Epoch 15/20\n",
            "89/89 [==============================] - 23s 261ms/step - loss: 0.5336 - accuracy: 0.8090 - val_loss: 63.2807 - val_accuracy: 0.7778\n",
            "Epoch 16/20\n",
            "89/89 [==============================] - 24s 270ms/step - loss: 0.5141 - accuracy: 0.7697 - val_loss: 111.9743 - val_accuracy: 0.7778\n",
            "Epoch 17/20\n",
            "89/89 [==============================] - 21s 241ms/step - loss: 0.4902 - accuracy: 0.8090 - val_loss: 49.7549 - val_accuracy: 0.9074\n",
            "Epoch 18/20\n",
            "89/89 [==============================] - 24s 272ms/step - loss: 0.4000 - accuracy: 0.8596 - val_loss: 77.3265 - val_accuracy: 0.7963\n",
            "Epoch 19/20\n",
            "89/89 [==============================] - 19s 215ms/step - loss: 0.4710 - accuracy: 0.8371 - val_loss: 152.9860 - val_accuracy: 0.8148\n",
            "Epoch 20/20\n",
            "89/89 [==============================] - 19s 211ms/step - loss: 0.5524 - accuracy: 0.8090 - val_loss: 85.0523 - val_accuracy: 0.7778\n"
          ]
        },
        {
          "output_type": "execute_result",
          "data": {
            "text/plain": [
              "<keras.callbacks.History at 0x7fdc7e4fec10>"
            ]
          },
          "metadata": {},
          "execution_count": 16
        }
      ]
    },
    {
      "cell_type": "code",
      "source": [
        "model.save('vegetable.h5')"
      ],
      "metadata": {
        "id": "vm9cSfNifeOV"
      },
      "execution_count": null,
      "outputs": []
    },
    {
      "cell_type": "code",
      "source": [
        "model.summary()"
      ],
      "metadata": {
        "colab": {
          "base_uri": "https://localhost:8080/"
        },
        "id": "X5aAD7eFi83f",
        "outputId": "87544de1-7e04-41e7-d99e-f7b37faa009d"
      },
      "execution_count": null,
      "outputs": [
        {
          "output_type": "stream",
          "name": "stdout",
          "text": [
            "Model: \"sequential\"\n",
            "_________________________________________________________________\n",
            " Layer (type)                Output Shape              Param #   \n",
            "=================================================================\n",
            " conv2d (Conv2D)             (None, 126, 126, 32)      896       \n",
            "                                                                 \n",
            " max_pooling2d (MaxPooling2D  (None, 63, 63, 32)       0         \n",
            " )                                                               \n",
            "                                                                 \n",
            " flatten (Flatten)           (None, 127008)            0         \n",
            "                                                                 \n",
            " dense (Dense)               (None, 40)                5080360   \n",
            "                                                                 \n",
            " dense_1 (Dense)             (None, 20)                820       \n",
            "                                                                 \n",
            " dense_2 (Dense)             (None, 6)                 126       \n",
            "                                                                 \n",
            "=================================================================\n",
            "Total params: 5,082,202\n",
            "Trainable params: 5,082,202\n",
            "Non-trainable params: 0\n",
            "_________________________________________________________________\n"
          ]
        }
      ]
    },
    {
      "cell_type": "code",
      "source": [],
      "metadata": {
        "id": "nuGKaRjDjAOe"
      },
      "execution_count": null,
      "outputs": []
    }
  ]
}